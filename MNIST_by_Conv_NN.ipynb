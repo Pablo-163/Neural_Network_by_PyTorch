{
 "cells": [
  {
   "cell_type": "code",
   "execution_count": 11,
   "id": "da31ffb3",
   "metadata": {},
   "outputs": [],
   "source": [
    "import torch\n",
    "import random\n",
    "import numpy as np\n",
    "\n",
    "# fix seed for using the same initial weights\n",
    "random.seed(0)\n",
    "np.random.seed(0)\n",
    "torch.manual_seed(0)\n",
    "# torch.backends.cudnn.deterministic = True\n",
    "\n",
    "# get datasets\n",
    "import torchvision.datasets"
   ]
  },
  {
   "cell_type": "code",
   "execution_count": 18,
   "id": "07521586",
   "metadata": {},
   "outputs": [],
   "source": [
    "numbers_train = torchvision.datasets.MNIST('./', download=True, train=True)\n",
    "numbers_test = torchvision.datasets.MNIST('./', download=True, train=False)\n",
    "\n",
    "# separate into features and predicted value\n",
    "\n",
    "x_train = numbers_train.data      #train_data\n",
    "y_train = numbers_train.targets   #train_labels\n",
    "\n",
    "x_test = numbers_test.data\n",
    "y_test = numbers_test.targets\n",
    "\n",
    "# make train set useful\n",
    "x_train = x_train.float()  # [60000, 28, 28]\n",
    "x_test = x_test.float()\n",
    "\n",
    "x_test = x_test.unsqueeze(1).float()\n",
    "x_train = x_train.unsqueeze(1).float()"
   ]
  },
  {
   "cell_type": "code",
   "execution_count": 25,
   "id": "4342b84d",
   "metadata": {},
   "outputs": [],
   "source": [
    "class LeNet5(torch.nn.Module):\n",
    "    def __init__(self):\n",
    "        super(LeNet5, self).__init__()\n",
    "        # make padding  = 2 for getting output as 28x28\n",
    "        self.conv1 = torch.nn.Conv2d(\n",
    "            in_channels=1, out_channels=6, kernel_size=5, padding=2)\n",
    "        self.act1 = torch.nn.ReLU() #Tanh()\n",
    "        self.pool1 = torch.nn.AvgPool2d(kernel_size=2, stride=2)\n",
    "\n",
    "        self.conv2 = torch.nn.Conv2d(\n",
    "            in_channels=6, out_channels=16, kernel_size=5, padding=0)\n",
    "        self.act2 = torch.nn.ReLU() #Tanh()\n",
    "        self.pool2 = torch.nn.AvgPool2d(kernel_size=2, stride=2)\n",
    "\n",
    "        self.fc1 = torch.nn.Linear(5 * 5 * 16, 120)\n",
    "        self.act3 = torch.nn.ReLU() #Tanh()\n",
    "\n",
    "        self.fc2 = torch.nn.Linear(120, 84)\n",
    "        self.act4 = torch.nn.ReLU() #Tanh()\n",
    "\n",
    "        self.fc3 = torch.nn.Linear(84, 10)\n",
    "\n",
    "    def forward(self, x):\n",
    "        x = self.conv1(x)\n",
    "        x = self.act1(x)\n",
    "        x = self.pool1(x)\n",
    "\n",
    "        x = self.conv2(x)\n",
    "        x = self.act2(x)\n",
    "        x = self.pool2(x)\n",
    "\n",
    "        x = x.view(x.size(0), x.size(1) * x.size(2) * x.size(3))\n",
    "\n",
    "        x = self.fc1(x)\n",
    "        x = self.act3(x)\n",
    "        x = self.fc2(x)\n",
    "        x = self.act4(x)\n",
    "        x = self.fc3(x)\n",
    "\n",
    "        return x"
   ]
  },
  {
   "cell_type": "code",
   "execution_count": 30,
   "id": "4afbccb6",
   "metadata": {},
   "outputs": [],
   "source": [
    "# settings for training\n",
    "net = LeNet5()\n",
    "\n",
    "# use cross-entropy like loss - function\n",
    "loss = torch.nn.CrossEntropyLoss()\n",
    "optimizer = torch.optim.Adam(net.parameters(), lr=5.0e-4)\n",
    "\n",
    "\n",
    "# training will be batched\n",
    "batch_size = 50\n",
    "\n",
    "test_accuracy_history = []\n",
    "test_loss_history = []"
   ]
  },
  {
   "cell_type": "code",
   "execution_count": 33,
   "id": "d1621623",
   "metadata": {},
   "outputs": [
    {
     "name": "stdout",
     "output_type": "stream",
     "text": [
      "tensor(0.9886)\n",
      "tensor(0.9903)\n",
      "tensor(0.9900)\n",
      "tensor(0.9889)\n",
      "tensor(0.9906)\n",
      "tensor(0.9895)\n",
      "tensor(0.9904)\n",
      "tensor(0.9924)\n",
      "tensor(0.9913)\n",
      "tensor(0.9905)\n",
      "tensor(0.9916)\n",
      "tensor(0.9917)\n",
      "tensor(0.9855)\n",
      "tensor(0.9912)\n",
      "tensor(0.9913)\n",
      "tensor(0.9908)\n",
      "tensor(0.9908)\n",
      "tensor(0.9916)\n",
      "tensor(0.9908)\n",
      "tensor(0.9921)\n"
     ]
    }
   ],
   "source": [
    "for epoch in range(20):\n",
    "    order = np.random.permutation(len(x_train))\n",
    "    for start_index in range(0, len(x_train), batch_size):\n",
    "        optimizer.zero_grad()\n",
    "\n",
    "        batch_indexes = order[start_index:start_index + batch_size]\n",
    "\n",
    "        X_batch = x_train[batch_indexes]\n",
    "        y_batch = y_train[batch_indexes]\n",
    "\n",
    "        preds = net.forward(X_batch)\n",
    "\n",
    "        loss_value = loss(preds, y_batch)\n",
    "        loss_value.backward()\n",
    "\n",
    "        optimizer.step()\n",
    "\n",
    "    test_preds = net.forward(x_test)\n",
    "    test_loss_history.append(loss(test_preds, y_test).data.cpu())\n",
    "\n",
    "    accuracy = (test_preds.argmax(dim=1) == y_test).float().mean().data.cpu()\n",
    "    test_accuracy_history.append(accuracy)\n",
    "\n",
    "    print(accuracy)"
   ]
  },
  {
   "cell_type": "code",
   "execution_count": 34,
   "id": "2649a31c",
   "metadata": {},
   "outputs": [
    {
     "data": {
      "text/plain": [
       "[<matplotlib.lines.Line2D at 0x1fe02e04820>]"
      ]
     },
     "execution_count": 34,
     "metadata": {},
     "output_type": "execute_result"
    },
    {
     "data": {
      "image/png": "[encoded data removed]",
      "text/plain": [
       "<Figure size 432x288 with 1 Axes>"
      ]
     },
     "metadata": {},
     "output_type": "display_data"
    }
   ],
   "source": [
    "plt.plot(test_accuracy_history)\n",
    "#plt.plot(test_loss_history)"
   ]
  },
  {
   "cell_type": "code",
   "execution_count": null,
   "id": "0af344d8",
   "metadata": {},
   "outputs": [],
   "source": []
  }
 ],
 "metadata": {
  "kernelspec": {
   "display_name": "Python 3 (Spyder)",
   "language": "python3",
   "name": "python3"
  },
  "language_info": {
   "codemirror_mode": {
    "name": "ipython",
    "version": 3
   },
   "file_extension": ".py",
   "mimetype": "text/x-python",
   "name": "python",
   "nbconvert_exporter": "python",
   "pygments_lexer": "ipython3",
   "version": "3.8.8"
  }
 },
 "nbformat": 4,
 "nbformat_minor": 5
}
